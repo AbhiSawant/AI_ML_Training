{
 "cells": [
  {
   "cell_type": "markdown",
   "metadata": {},
   "source": [
    "<h1 style=\"color:Blue\">Python Basics</h1>"
   ]
  },
  {
   "cell_type": "markdown",
   "metadata": {},
   "source": [
    "What are compilers and interpreters?\n",
    "\n",
    "<br>\n",
    "\n",
    "<img src=\"Images/InterCompiler.png\" >\n",
    "\n",
    "<br>\n",
    "\n",
    "<b>Python is interpreted language </b>"
   ]
  },
  {
   "cell_type": "markdown",
   "metadata": {},
   "source": [
    "<h2 style=\"color:DodgerBlue\"> Memory management in Python </h2>\n",
    "\n",
    "<br>\n",
    "Everything is object in Python. <br>\n",
    "The variables in python are dynamically typed.\n",
    "\n",
    "<br>\n",
    "<img src=\"Images/MM.png\" >\n",
    "<br>"
   ]
  },
  {
   "cell_type": "code",
   "execution_count": 1,
   "metadata": {},
   "outputs": [
    {
     "name": "stdout",
     "output_type": "stream",
     "text": [
      "0x7ffdb105a2b0\n"
     ]
    }
   ],
   "source": [
    "x = 10\n",
    "print(hex(id(x)))"
   ]
  },
  {
   "cell_type": "code",
   "execution_count": 2,
   "metadata": {},
   "outputs": [
    {
     "name": "stdout",
     "output_type": "stream",
     "text": [
      "0x7ffdb105a2b0\n"
     ]
    }
   ],
   "source": [
    "y = 10\n",
    "print(hex(id(y)))"
   ]
  },
  {
   "cell_type": "markdown",
   "metadata": {},
   "source": [
    "Python optimizes memory by refering to the same object"
   ]
  },
  {
   "cell_type": "code",
   "execution_count": 3,
   "metadata": {},
   "outputs": [
    {
     "name": "stdout",
     "output_type": "stream",
     "text": [
      "0x7ffdb105a2f0\n"
     ]
    }
   ],
   "source": [
    "x = 12\n",
    "print(hex(id(x)))"
   ]
  },
  {
   "cell_type": "markdown",
   "metadata": {},
   "source": [
    "Python keeps track of number of references to the object, when the count is 0 the garbage collection program is called which cleans the menory"
   ]
  },
  {
   "cell_type": "code",
   "execution_count": 12,
   "metadata": {},
   "outputs": [
    {
     "name": "stdout",
     "output_type": "stream",
     "text": [
      "Location of a: 0x7ffdb105a2b0\n",
      "Before: <weakref at 0x00000156D0D89DB8; to 'Emp' at 0x00000156D0D8F108>\n"
     ]
    }
   ],
   "source": [
    "import weakref\n",
    "\n",
    "class Emp:\n",
    "    \n",
    "    def __init__(self, x):\n",
    "        self.name = x\n",
    "        \n",
    "Emp1 = Emp(\"Abhi\")\n",
    "print(\"Location of a:\", hex(id(a)))\n",
    "\n",
    "weak = weakref.ref(Emp1)\n",
    "print(\"Before:\", (weak))"
   ]
  },
  {
   "cell_type": "code",
   "execution_count": 13,
   "metadata": {},
   "outputs": [
    {
     "name": "stdout",
     "output_type": "stream",
     "text": [
      "After: <weakref at 0x00000156D0D89DB8; dead>\n"
     ]
    }
   ],
   "source": [
    "Emp1 = None\n",
    "print(\"After:\", (weak))"
   ]
  },
  {
   "cell_type": "code",
   "execution_count": null,
   "metadata": {},
   "outputs": [],
   "source": []
  },
  {
   "cell_type": "markdown",
   "metadata": {
    "slideshow": {
     "slide_type": "slide"
    }
   },
   "source": [
    "<h1 style=\"color:Tomato\"> Basic data types </h1>"
   ]
  },
  {
   "cell_type": "markdown",
   "metadata": {},
   "source": [
    "Objects in Python are either mutable or immutable\n",
    "\n",
    "Mutable object can be changed after it is created and immutable objects cannot be changed.\n",
    "\n",
    "\n",
    "<br>\n",
    "<l>\n",
    "    <li>Objects of built-in types like (int, float, bool, str, tuple, unicode) are immutable. \n",
    "    <li>Objects of built-in types like (list, set, dict) are mutable. \n",
    "    <li>Custom classes are generally mutable.\n",
    "</l>"
   ]
  },
  {
   "cell_type": "markdown",
   "metadata": {},
   "source": [
    "<h2 style=\"color:DodgerBlue\"> Booleans </h2>"
   ]
  },
  {
   "cell_type": "code",
   "execution_count": 23,
   "metadata": {},
   "outputs": [
    {
     "name": "stdout",
     "output_type": "stream",
     "text": [
      "True\n"
     ]
    }
   ],
   "source": [
    "a = 10\n",
    "b = 10\n",
    "\n",
    "print(a == b)"
   ]
  },
  {
   "cell_type": "code",
   "execution_count": 24,
   "metadata": {},
   "outputs": [
    {
     "name": "stdout",
     "output_type": "stream",
     "text": [
      "a is greater than 5\n"
     ]
    }
   ],
   "source": [
    "a = 10\n",
    "\n",
    "if a < 5:\n",
    "    print(\"a is less than 5\")\n",
    "else:\n",
    "    print(\"a is greater than 5\")"
   ]
  },
  {
   "cell_type": "markdown",
   "metadata": {},
   "source": [
    "<img src=\"Images/Compare.png\" >"
   ]
  },
  {
   "cell_type": "markdown",
   "metadata": {},
   "source": [
    "<h2 style=\"color:DodgerBlue\"> Intergers & floats </h2>"
   ]
  },
  {
   "cell_type": "code",
   "execution_count": 21,
   "metadata": {},
   "outputs": [
    {
     "name": "stdout",
     "output_type": "stream",
     "text": [
      "<class 'int'>\n",
      "<class 'int'>\n"
     ]
    }
   ],
   "source": [
    "a = 10\n",
    "print(type(a))"
   ]
  },
  {
   "cell_type": "code",
   "execution_count": 19,
   "metadata": {},
   "outputs": [
    {
     "name": "stdout",
     "output_type": "stream",
     "text": [
      "<class 'float'>\n",
      "<class 'float'>\n"
     ]
    }
   ],
   "source": [
    "b = 10.2\n",
    "print(type(b))\n",
    "\n",
    "b = -10.2\n",
    "print(type(b))"
   ]
  },
  {
   "cell_type": "markdown",
   "metadata": {},
   "source": [
    "<b> Basic operations: </b>"
   ]
  },
  {
   "cell_type": "code",
   "execution_count": 42,
   "metadata": {},
   "outputs": [
    {
     "name": "stdout",
     "output_type": "stream",
     "text": [
      "12\n",
      "8\n",
      "5.0\n",
      "20\n",
      "5\n",
      "0\n",
      "100\n",
      "100\n",
      "1.22\n",
      "-1\n",
      "10.0\n"
     ]
    }
   ],
   "source": [
    "a = 10\n",
    "b = 2\n",
    "c = -1.22\n",
    "\n",
    "print(a + b) #Addition\n",
    "print(a - b) #Subtraction\n",
    "print(a / b) #Division\n",
    "print(a * b) #Multiplication\n",
    "print(a // b) #Floored division\n",
    "print(a % b) #Remainder\n",
    "print(pow(a,b)) #Power\n",
    "print(a ** b) #Power\n",
    "print(abs(c)) #Absolute\n",
    "print(int(c))\n",
    "print(float(a))"
   ]
  },
  {
   "cell_type": "code",
   "execution_count": 47,
   "metadata": {},
   "outputs": [
    {
     "name": "stdout",
     "output_type": "stream",
     "text": [
      "2\n",
      "3\n",
      "False\n"
     ]
    }
   ],
   "source": [
    "import math\n",
    "\n",
    "a = 2.5\n",
    "\n",
    "print(math.floor(a))\n",
    "print(math.ceil(a))\n",
    "\n",
    "print(a.is_integer())"
   ]
  },
  {
   "cell_type": "markdown",
   "metadata": {
    "slideshow": {
     "slide_type": "slide"
    }
   },
   "source": [
    "<h2 style=\"color:DodgerBlue\"> Lists </h2>"
   ]
  },
  {
   "cell_type": "markdown",
   "metadata": {
    "slideshow": {
     "slide_type": "skip"
    }
   },
   "source": [
    " "
   ]
  },
  {
   "cell_type": "code",
   "execution_count": 60,
   "metadata": {},
   "outputs": [
    {
     "data": {
      "text/plain": [
       "'0x156d34ab348'"
      ]
     },
     "execution_count": 60,
     "metadata": {},
     "output_type": "execute_result"
    }
   ],
   "source": [
    "a = [1,2,3]\n",
    "hex(id(a))"
   ]
  },
  {
   "cell_type": "code",
   "execution_count": 61,
   "metadata": {},
   "outputs": [
    {
     "data": {
      "text/plain": [
       "'0x156d34ab348'"
      ]
     },
     "execution_count": 61,
     "metadata": {},
     "output_type": "execute_result"
    }
   ],
   "source": [
    "b = a\n",
    "hex(id(b))"
   ]
  },
  {
   "cell_type": "code",
   "execution_count": 62,
   "metadata": {},
   "outputs": [
    {
     "name": "stdout",
     "output_type": "stream",
     "text": [
      "[1, 2]\n"
     ]
    },
    {
     "data": {
      "text/plain": [
       "'0x156d34ab348'"
      ]
     },
     "execution_count": 62,
     "metadata": {},
     "output_type": "execute_result"
    }
   ],
   "source": [
    "a.pop()\n",
    "print(a)\n",
    "hex(id(a))"
   ]
  },
  {
   "cell_type": "code",
   "execution_count": 63,
   "metadata": {},
   "outputs": [
    {
     "data": {
      "text/plain": [
       "'0x156d34ab348'"
      ]
     },
     "execution_count": 63,
     "metadata": {},
     "output_type": "execute_result"
    }
   ],
   "source": [
    "hex(id(b))"
   ]
  },
  {
   "cell_type": "code",
   "execution_count": 64,
   "metadata": {},
   "outputs": [],
   "source": [
    "a[0] = 0"
   ]
  },
  {
   "cell_type": "code",
   "execution_count": 66,
   "metadata": {},
   "outputs": [
    {
     "name": "stdout",
     "output_type": "stream",
     "text": [
      "[0, 2]\n",
      "0x156d34ab348\n"
     ]
    }
   ],
   "source": [
    "print(a)\n",
    "print(hex(id(a)))"
   ]
  },
  {
   "cell_type": "markdown",
   "metadata": {
    "slideshow": {
     "slide_type": "subslide"
    }
   },
   "source": [
    "##### Adding and removing elements"
   ]
  },
  {
   "cell_type": "code",
   "execution_count": 67,
   "metadata": {
    "slideshow": {
     "slide_type": "subslide"
    }
   },
   "outputs": [
    {
     "name": "stdout",
     "output_type": "stream",
     "text": [
      "[2, 3, 7, None, 'Hello']\n"
     ]
    }
   ],
   "source": [
    "a_list = [2, 3, 7, None, \"Hello\"]\n",
    "print(a_list)"
   ]
  },
  {
   "cell_type": "code",
   "execution_count": 68,
   "metadata": {
    "slideshow": {
     "slide_type": "subslide"
    }
   },
   "outputs": [
    {
     "data": {
      "text/plain": [
       "[2, 3, 7, None, 'Hello', 'dwarf']"
      ]
     },
     "execution_count": 68,
     "metadata": {},
     "output_type": "execute_result"
    }
   ],
   "source": [
    "# End of the list\n",
    "a_list.append('dwarf')\n",
    "a_list"
   ]
  },
  {
   "cell_type": "code",
   "execution_count": 69,
   "metadata": {
    "slideshow": {
     "slide_type": "fragment"
    }
   },
   "outputs": [
    {
     "data": {
      "text/plain": [
       "[2, 'red', 3, 7, None, 'Hello', 'dwarf']"
      ]
     },
     "execution_count": 69,
     "metadata": {},
     "output_type": "execute_result"
    }
   ],
   "source": [
    "# Specify the position\n",
    "a_list.insert(1, 'red')\n",
    "a_list"
   ]
  },
  {
   "cell_type": "code",
   "execution_count": 70,
   "metadata": {
    "slideshow": {
     "slide_type": "fragment"
    }
   },
   "outputs": [
    {
     "data": {
      "text/plain": [
       "[2, 'red', 3, 7, None, 'Hello']"
      ]
     },
     "execution_count": 70,
     "metadata": {},
     "output_type": "execute_result"
    }
   ],
   "source": [
    "# Removes the last element by default index can also be specified\n",
    "a_list.pop()\n",
    "a_list"
   ]
  },
  {
   "cell_type": "code",
   "execution_count": 71,
   "metadata": {
    "slideshow": {
     "slide_type": "subslide"
    }
   },
   "outputs": [
    {
     "data": {
      "text/plain": [
       "['red', 3, 7, None, 'Hello']"
      ]
     },
     "execution_count": 71,
     "metadata": {},
     "output_type": "execute_result"
    }
   ],
   "source": [
    "# Removes the element but index needs to be specified\n",
    "a_list.remove(2)\n",
    "a_list"
   ]
  },
  {
   "cell_type": "code",
   "execution_count": 72,
   "metadata": {
    "slideshow": {
     "slide_type": "fragment"
    }
   },
   "outputs": [
    {
     "data": {
      "text/plain": [
       "True"
      ]
     },
     "execution_count": 72,
     "metadata": {},
     "output_type": "execute_result"
    }
   ],
   "source": [
    "\"Hello\" in a_list"
   ]
  },
  {
   "cell_type": "markdown",
   "metadata": {},
   "source": [
    "##### Concatenating and combining lists"
   ]
  },
  {
   "cell_type": "code",
   "execution_count": 73,
   "metadata": {},
   "outputs": [
    {
     "name": "stdout",
     "output_type": "stream",
     "text": [
      "[4, None, 'foo', 7, 8, (2, 3)]\n"
     ]
    }
   ],
   "source": [
    "a = [4, None, 'foo']\n",
    "b =  [7, 8, (2, 3)]\n",
    "c = a + b\n",
    "print(c)"
   ]
  },
  {
   "cell_type": "code",
   "execution_count": 74,
   "metadata": {},
   "outputs": [
    {
     "name": "stdout",
     "output_type": "stream",
     "text": [
      "1472416905864\n",
      "[4, None, 'foo', 7, 8, (2, 3)]\n",
      "1472416905864\n"
     ]
    }
   ],
   "source": [
    "# Lists are mutable the address of list does not changes even after adding new elemets\n",
    "x = [4, None, 'foo']\n",
    "print(id(x))\n",
    "x.extend([7, 8, (2, 3)])\n",
    "print(x)\n",
    "print(id(x))"
   ]
  },
  {
   "cell_type": "markdown",
   "metadata": {},
   "source": [
    "##### Sorting"
   ]
  },
  {
   "cell_type": "code",
   "execution_count": 75,
   "metadata": {},
   "outputs": [
    {
     "data": {
      "text/plain": [
       "[1, 2, 3, 5, 7]"
      ]
     },
     "execution_count": 75,
     "metadata": {},
     "output_type": "execute_result"
    }
   ],
   "source": [
    "a = [7, 2, 5, 1, 3]\n",
    "a.sort()\n",
    "a"
   ]
  },
  {
   "cell_type": "code",
   "execution_count": 76,
   "metadata": {},
   "outputs": [
    {
     "name": "stdout",
     "output_type": "stream",
     "text": [
      "['He', 'foxes', 'saw', 'six', 'small']\n"
     ]
    }
   ],
   "source": [
    "b = ['saw', 'small', 'He', 'foxes', 'six']\n",
    "b.sort() # Sorting on the basis of ASCII value\n",
    "print(b)"
   ]
  },
  {
   "cell_type": "code",
   "execution_count": 77,
   "metadata": {},
   "outputs": [
    {
     "name": "stdout",
     "output_type": "stream",
     "text": [
      "['He', 'saw', 'six', 'small', 'foxes']\n"
     ]
    }
   ],
   "source": [
    "b = ['saw', 'small', 'He', 'foxes', 'six']\n",
    "b.sort(key=len) # Sorting on the basis of len of the string\n",
    "print(b)"
   ]
  },
  {
   "cell_type": "markdown",
   "metadata": {},
   "source": [
    "##### Slicing"
   ]
  },
  {
   "cell_type": "code",
   "execution_count": 78,
   "metadata": {},
   "outputs": [
    {
     "data": {
      "text/plain": [
       "[2, 3, 7, 5]"
      ]
     },
     "execution_count": 78,
     "metadata": {},
     "output_type": "execute_result"
    }
   ],
   "source": [
    "# Indexing starts from 0\n",
    "seq = [7, 2, 3, 7, 5, 6, 0, 1]\n",
    "seq[1:5]"
   ]
  },
  {
   "cell_type": "code",
   "execution_count": 79,
   "metadata": {},
   "outputs": [
    {
     "name": "stdout",
     "output_type": "stream",
     "text": [
      "[7, 2, 3, 7, 5, 6, 0, 1]\n",
      "[7]\n",
      "[7, 2, 3, 9, 9, 5, 6, 0, 1]\n"
     ]
    }
   ],
   "source": [
    "print(seq)\n",
    "print(seq[3:4])\n",
    "seq[3:4] = [9, 9]\n",
    "print(seq)"
   ]
  },
  {
   "cell_type": "code",
   "execution_count": 80,
   "metadata": {},
   "outputs": [
    {
     "name": "stdout",
     "output_type": "stream",
     "text": [
      "[0, 1, 2, 3, 4, 5, 6, 7, 8]\n",
      "[7, 2, 3, 9, 9, 5, 6, 0, 1]\n",
      "[7, 2, 3, 9, 9]\n",
      "[9, 9, 5, 6, 0, 1]\n"
     ]
    }
   ],
   "source": [
    "print([i for i in range(len(seq))])\n",
    "print(seq)\n",
    "print(seq[:5]) # From starting of the list\n",
    "print(seq[3:]) # Till the end of the list"
   ]
  },
  {
   "cell_type": "code",
   "execution_count": 81,
   "metadata": {},
   "outputs": [
    {
     "name": "stdout",
     "output_type": "stream",
     "text": [
      "[-9, -8, -7, -6, -5, -4, -3, -2, -1]\n",
      "[7, 2, 3, 9, 9, 5, 6, 0, 1]\n",
      "[5, 6, 0, 1]\n",
      "[9, 9, 5, 6]\n"
     ]
    }
   ],
   "source": [
    "print([i for i in range(-9,0)])\n",
    "print(seq)\n",
    "print(seq[-4:]) # From end of the list\n",
    "print(seq[-6:-2])"
   ]
  },
  {
   "cell_type": "code",
   "execution_count": 63,
   "metadata": {},
   "outputs": [
    {
     "name": "stdout",
     "output_type": "stream",
     "text": [
      "[7, 2, 3, 9, 9, 5, 6, 0, 1]\n"
     ]
    },
    {
     "data": {
      "text/plain": [
       "[7, 3, 9, 6, 1]"
      ]
     },
     "execution_count": 63,
     "metadata": {},
     "output_type": "execute_result"
    }
   ],
   "source": [
    "print(seq)\n",
    "seq[::2] # Intervals of 2"
   ]
  },
  {
   "cell_type": "code",
   "execution_count": 82,
   "metadata": {},
   "outputs": [
    {
     "name": "stdout",
     "output_type": "stream",
     "text": [
      "[1, 0, 6, 5, 9, 9, 3, 2, 7]\n",
      "[1, 0, 6, 5, 9, 9, 3, 2, 7]\n"
     ]
    }
   ],
   "source": [
    "print(list(reversed(seq)))\n",
    "print(seq[::-1]) # Print in reverse manner"
   ]
  },
  {
   "cell_type": "markdown",
   "metadata": {},
   "source": [
    "##### List comprehension"
   ]
  },
  {
   "cell_type": "code",
   "execution_count": 69,
   "metadata": {},
   "outputs": [
    {
     "data": {
      "text/plain": [
       "['a', 'as', 'bat', 'car', 'dove', 'python']"
      ]
     },
     "execution_count": 69,
     "metadata": {},
     "output_type": "execute_result"
    }
   ],
   "source": [
    "strings = ['a', 'as', 'bat', 'car', 'dove', 'python']\n",
    "\n",
    "[i for i in strings]"
   ]
  },
  {
   "cell_type": "code",
   "execution_count": 70,
   "metadata": {},
   "outputs": [
    {
     "data": {
      "text/plain": [
       "['bat', 'car', 'dove', 'python']"
      ]
     },
     "execution_count": 70,
     "metadata": {},
     "output_type": "execute_result"
    }
   ],
   "source": [
    "[i for i in strings if len(i)>2]"
   ]
  },
  {
   "cell_type": "code",
   "execution_count": 169,
   "metadata": {},
   "outputs": [],
   "source": [
    "seq_n = [23, 15, 88 ,99, 154, 65, 75, 88, 84, 75, 81, 35, 26, 89, 76, 48, 81, 784]\n",
    "\n",
    "import numpy as np\n",
    "\n",
    "seq_n = np.random.randint(100, 300, 100000)"
   ]
  },
  {
   "cell_type": "code",
   "execution_count": 172,
   "metadata": {},
   "outputs": [
    {
     "data": {
      "text/plain": [
       "20.946025848388672"
      ]
     },
     "execution_count": 172,
     "metadata": {},
     "output_type": "execute_result"
    }
   ],
   "source": [
    "import time\n",
    "\n",
    "s = time.time()\n",
    "x = [i*i for i in seq_n]\n",
    "se = time.time()\n",
    "(se - s) * 1000"
   ]
  },
  {
   "cell_type": "code",
   "execution_count": 173,
   "metadata": {},
   "outputs": [
    {
     "data": {
      "text/plain": [
       "28.92327308654785"
      ]
     },
     "execution_count": 173,
     "metadata": {},
     "output_type": "execute_result"
    }
   ],
   "source": [
    "s = time.time()\n",
    "for i in seq_n:\n",
    "    x = (i*i)\n",
    "se = time.time()\n",
    "(se - s) * 1000"
   ]
  },
  {
   "cell_type": "markdown",
   "metadata": {},
   "source": [
    "List comprehensions are faster than normal for loops"
   ]
  },
  {
   "cell_type": "code",
   "execution_count": 130,
   "metadata": {},
   "outputs": [],
   "source": [
    "data = [['John', 'Emily', 'Michael', 'Mary', 'Steven'],\n",
    "            ['Maria', 'Juan', 'Javier', 'Natalia', 'Pilar']]"
   ]
  },
  {
   "cell_type": "code",
   "execution_count": 131,
   "metadata": {},
   "outputs": [
    {
     "name": "stdout",
     "output_type": "stream",
     "text": [
      "1576331745.6530626\n",
      "['John', 'Emily', 'Michael', 'Mary', 'Steven']\n",
      "MICHAEL\n",
      "MARY\n",
      "['Maria', 'Juan', 'Javier', 'Natalia', 'Pilar']\n",
      "MARIA\n",
      "1576331745.6540604\n"
     ]
    },
    {
     "data": {
      "text/plain": [
       "0.000997781753540039"
      ]
     },
     "execution_count": 131,
     "metadata": {},
     "output_type": "execute_result"
    }
   ],
   "source": [
    "# Using for loops\n",
    "\n",
    "s = time.time()\n",
    "print(s)\n",
    "for names in data:\n",
    "    print(names)\n",
    "    for name in names:\n",
    "        if name.startswith('M'):\n",
    "            print(name.upper())\n",
    "print(time.time())\n",
    "time.time() - s"
   ]
  },
  {
   "cell_type": "code",
   "execution_count": 132,
   "metadata": {},
   "outputs": [
    {
     "data": {
      "text/plain": [
       "0.0"
      ]
     },
     "execution_count": 132,
     "metadata": {},
     "output_type": "execute_result"
    }
   ],
   "source": [
    "# Using list comprehension\n",
    "\n",
    "s = time.time()\n",
    "\n",
    "[name.upper() for names in data for name in names if name.startswith('M')]\n",
    "\n",
    "time.time() - s"
   ]
  },
  {
   "cell_type": "markdown",
   "metadata": {},
   "source": [
    "##### Sorting"
   ]
  },
  {
   "cell_type": "code",
   "execution_count": 133,
   "metadata": {},
   "outputs": [
    {
     "name": "stdout",
     "output_type": "stream",
     "text": [
      "[7, 2, 3, 9, 9, 5, 6, 0, 1]\n",
      "[0, 1, 2, 3, 5, 6, 7, 9, 9]\n"
     ]
    }
   ],
   "source": [
    "print(seq)\n",
    "print(sorted(seq))"
   ]
  },
  {
   "cell_type": "markdown",
   "metadata": {},
   "source": [
    "##### Zip"
   ]
  },
  {
   "cell_type": "code",
   "execution_count": 134,
   "metadata": {},
   "outputs": [
    {
     "name": "stdout",
     "output_type": "stream",
     "text": [
      "[('foo', 'one', 1), ('bar', 'two', 2), ('baz', 'three', 3)]\n"
     ]
    }
   ],
   "source": [
    "seq1 = ('foo', 'bar', 'baz')\n",
    "seq2 = ['one', 'two', 'three']\n",
    "seq3 = [1, 2, 3]\n",
    "zipped = zip(seq1, seq2, seq3)\n",
    "print(list(zipped))"
   ]
  },
  {
   "cell_type": "markdown",
   "metadata": {},
   "source": [
    "##### Sets "
   ]
  },
  {
   "cell_type": "code",
   "execution_count": 135,
   "metadata": {},
   "outputs": [
    {
     "name": "stdout",
     "output_type": "stream",
     "text": [
      "[1, 4, 5, 4, 1, 2, 3]\n",
      "{1, 2, 3, 4, 5}\n"
     ]
    }
   ],
   "source": [
    "l1 = [1, 4, 5, 4, 1, 2, 3]\n",
    "print(l1)\n",
    "\n",
    "set_l1 = set(l1)\n",
    "print(set_l1)"
   ]
  },
  {
   "cell_type": "markdown",
   "metadata": {},
   "source": [
    " "
   ]
  },
  {
   "cell_type": "markdown",
   "metadata": {},
   "source": [
    "<h2 style=\"color:DodgerBlue\"> Tuple </h2>"
   ]
  },
  {
   "cell_type": "markdown",
   "metadata": {},
   "source": [
    " "
   ]
  },
  {
   "cell_type": "code",
   "execution_count": 136,
   "metadata": {},
   "outputs": [
    {
     "name": "stdout",
     "output_type": "stream",
     "text": [
      "(1, 2, 3, 4, 2)\n",
      "<class 'tuple'>\n"
     ]
    }
   ],
   "source": [
    "# Default tuples\n",
    "\n",
    "t1 = 1, 2, 3, 4, 2\n",
    "print(t1)\n",
    "print(type(t1))"
   ]
  },
  {
   "cell_type": "code",
   "execution_count": 137,
   "metadata": {},
   "outputs": [
    {
     "name": "stdout",
     "output_type": "stream",
     "text": [
      "('H', 'e', 'l', 'l', 'o', ' ', 'W', 'o', 'r', 'l', 'd')\n"
     ]
    }
   ],
   "source": [
    "# Using tuple function\n",
    "\n",
    "s = 'Hello World'\n",
    "t2 = tuple(s)\n",
    "print(t2)"
   ]
  },
  {
   "cell_type": "code",
   "execution_count": 138,
   "metadata": {},
   "outputs": [
    {
     "data": {
      "text/plain": [
       "('Hello', 'Hi', 2, 3, [1, 2, 3])"
      ]
     },
     "execution_count": 138,
     "metadata": {},
     "output_type": "execute_result"
    }
   ],
   "source": [
    "t3 = ('Hello', 'Hi', 2, 3, [1, 2, 3])\n",
    "t3"
   ]
  },
  {
   "cell_type": "code",
   "execution_count": 139,
   "metadata": {},
   "outputs": [
    {
     "name": "stdout",
     "output_type": "stream",
     "text": [
      "2\n",
      "(2, 3)\n"
     ]
    }
   ],
   "source": [
    "# Accessing elements of tuple\n",
    "\n",
    "print(t3[2])\n",
    "print(t3[2:4])"
   ]
  },
  {
   "cell_type": "code",
   "execution_count": 140,
   "metadata": {},
   "outputs": [
    {
     "name": "stdout",
     "output_type": "stream",
     "text": [
      "Hello\n"
     ]
    },
    {
     "ename": "TypeError",
     "evalue": "'tuple' object does not support item assignment",
     "output_type": "error",
     "traceback": [
      "\u001b[1;31m---------------------------------------------------------------------------\u001b[0m",
      "\u001b[1;31mTypeError\u001b[0m                                 Traceback (most recent call last)",
      "\u001b[1;32m<ipython-input-140-1ea07c81b1eb>\u001b[0m in \u001b[0;36m<module>\u001b[1;34m\u001b[0m\n\u001b[0;32m      2\u001b[0m \u001b[1;33m\u001b[0m\u001b[0m\n\u001b[0;32m      3\u001b[0m \u001b[0mprint\u001b[0m\u001b[1;33m(\u001b[0m\u001b[0mt3\u001b[0m\u001b[1;33m[\u001b[0m\u001b[1;36m0\u001b[0m\u001b[1;33m]\u001b[0m\u001b[1;33m)\u001b[0m\u001b[1;33m\u001b[0m\u001b[1;33m\u001b[0m\u001b[0m\n\u001b[1;32m----> 4\u001b[1;33m \u001b[0mt3\u001b[0m\u001b[1;33m[\u001b[0m\u001b[1;36m0\u001b[0m\u001b[1;33m]\u001b[0m \u001b[1;33m=\u001b[0m \u001b[1;34m\"Hello World\"\u001b[0m\u001b[1;33m\u001b[0m\u001b[1;33m\u001b[0m\u001b[0m\n\u001b[0m",
      "\u001b[1;31mTypeError\u001b[0m: 'tuple' object does not support item assignment"
     ]
    }
   ],
   "source": [
    "# Cannot modify elements of tuple\n",
    "\n",
    "print(t3[0])\n",
    "t3[0] = \"Hello World\""
   ]
  },
  {
   "cell_type": "code",
   "execution_count": 26,
   "metadata": {},
   "outputs": [
    {
     "name": "stdout",
     "output_type": "stream",
     "text": [
      "t3: 140322488187544    List in t3: 140322268751752\n",
      "[1, 3, 3]\n",
      "3\n",
      "t3: 140322488187544    List in t3: 140322268751752\n",
      "[1, 3, 3]\n"
     ]
    }
   ],
   "source": [
    "# Can modify mutable elements of tuple\n",
    "\n",
    "print(\"t3:\", id(t3), \"  \", \"List in t3:\", id(t3[-1]))\n",
    "print(t3[-1])\n",
    "print(t3[4][1])\n",
    "t3[4][1] = 3\n",
    "print(\"t3:\", id(t3), \"  \", \"List in t3:\", id(t3[-1]))\n",
    "print(t3[-1])"
   ]
  },
  {
   "cell_type": "code",
   "execution_count": 32,
   "metadata": {},
   "outputs": [
    {
     "name": "stdout",
     "output_type": "stream",
     "text": [
      "('Hello', 'Hi', 2, 3, [1, 3, 3], 1, 3)\n",
      "140322488209792\n",
      "('Hello', 'Hi', 2, 3, [1, 3, 3], 1, 3, 1, 3)\n",
      "140322268298840\n"
     ]
    }
   ],
   "source": [
    "# Add elements to tuple\n",
    "\n",
    "print(t3)\n",
    "print(id(t3))\n",
    "\n",
    "t3 = t3 + (1, 3)\n",
    "print(t3)\n",
    "print(id(t3))  # It is stored at a new location"
   ]
  },
  {
   "cell_type": "markdown",
   "metadata": {},
   "source": [
    "<h2 style=\"color:DodgerBlue\"> Dictionary </h2>"
   ]
  },
  {
   "cell_type": "markdown",
   "metadata": {},
   "source": [
    " "
   ]
  },
  {
   "cell_type": "code",
   "execution_count": 33,
   "metadata": {},
   "outputs": [
    {
     "data": {
      "text/plain": [
       "{'a': 'some value', 'b': [1, 2, 3, 4]}"
      ]
     },
     "execution_count": 33,
     "metadata": {},
     "output_type": "execute_result"
    }
   ],
   "source": [
    "# Creating dict with {} \n",
    "\n",
    "empty_dict = {}\n",
    "d1 = {'a' : 'some value', 'b' : [1, 2, 3, 4]} # Data is stored as key value pair\n",
    "d1"
   ]
  },
  {
   "cell_type": "code",
   "execution_count": 34,
   "metadata": {},
   "outputs": [
    {
     "data": {
      "text/plain": [
       "{'a': 'some value', 'b': [1, 2, 3, 4], 'c': 'new element'}"
      ]
     },
     "execution_count": 34,
     "metadata": {},
     "output_type": "execute_result"
    }
   ],
   "source": [
    "# Add elements in dict\n",
    "\n",
    "d1['c'] = \"new element\"\n",
    "d1"
   ]
  },
  {
   "cell_type": "code",
   "execution_count": 35,
   "metadata": {},
   "outputs": [
    {
     "data": {
      "text/plain": [
       "{'a': 'added something new', 'b': [1, 2, 3, 4], 'c': 'new element'}"
      ]
     },
     "execution_count": 35,
     "metadata": {},
     "output_type": "execute_result"
    }
   ],
   "source": [
    "# Careful while adding elements in dict\n",
    "\n",
    "d1['a'] = 'added something new'\n",
    "d1                                  # Overwrites the value of key 'a'"
   ]
  },
  {
   "cell_type": "code",
   "execution_count": 36,
   "metadata": {},
   "outputs": [
    {
     "name": "stdout",
     "output_type": "stream",
     "text": [
      "['a', 'b', 'c']\n",
      "['added something new', [1, 2, 3, 4], 'new element']\n"
     ]
    }
   ],
   "source": [
    "# Get keys and values of a dict\n",
    "\n",
    "print(list(d1.keys()))\n",
    "print(list(d1.values()))"
   ]
  },
  {
   "cell_type": "code",
   "execution_count": 37,
   "metadata": {},
   "outputs": [
    {
     "name": "stdout",
     "output_type": "stream",
     "text": [
      "True\n",
      "False\n"
     ]
    }
   ],
   "source": [
    "# Checking keys in dict\n",
    "\n",
    "print('a' in d1)              # Using in it only checks keys\n",
    "print('new element' in d1)    # Won't check values"
   ]
  },
  {
   "cell_type": "code",
   "execution_count": 42,
   "metadata": {},
   "outputs": [
    {
     "data": {
      "text/plain": [
       "{0: 'foo', 1: 'bar', 2: 'baz'}"
      ]
     },
     "execution_count": 42,
     "metadata": {},
     "output_type": "execute_result"
    }
   ],
   "source": [
    "# Enumerate list\n",
    "\n",
    "some_list = ['foo', 'bar', 'baz']\n",
    "mapping = {}\n",
    "for i, v in enumerate(some_list):\n",
    "    mapping[i] = v\n",
    "mapping"
   ]
  },
  {
   "cell_type": "code",
   "execution_count": 47,
   "metadata": {},
   "outputs": [
    {
     "data": {
      "text/plain": [
       "[1, 2, 2, 3]"
      ]
     },
     "execution_count": 47,
     "metadata": {},
     "output_type": "execute_result"
    }
   ],
   "source": [
    "# Label encoding using dict\n",
    "\n",
    "labels = {\"Engg\": 1, \"Doc\": 2, \"Stats\": 3}\n",
    "\n",
    "s = [\"Engg\", \"Doc\", \"Doc\", \"Stats\"]\n",
    "s_new = []\n",
    "for i in s:\n",
    "    s_new.append(labels[i])\n",
    "    \n",
    "s_new"
   ]
  },
  {
   "cell_type": "markdown",
   "metadata": {},
   "source": [
    "<h2 style=\"color:DodgerBlue\"> Sets </h2>"
   ]
  },
  {
   "cell_type": "markdown",
   "metadata": {},
   "source": [
    " "
   ]
  },
  {
   "cell_type": "code",
   "execution_count": 48,
   "metadata": {
    "collapsed": true
   },
   "outputs": [],
   "source": [
    "a = {1, 2, 3, 4, 5}\n",
    "b = {3, 4, 5, 6, 7, 8}"
   ]
  },
  {
   "cell_type": "code",
   "execution_count": 49,
   "metadata": {},
   "outputs": [
    {
     "data": {
      "text/plain": [
       "{1, 2, 3, 4, 5, 6, 7, 8}"
      ]
     },
     "execution_count": 49,
     "metadata": {},
     "output_type": "execute_result"
    }
   ],
   "source": [
    "a.union(b) # Or a | b"
   ]
  },
  {
   "cell_type": "code",
   "execution_count": 51,
   "metadata": {},
   "outputs": [
    {
     "data": {
      "text/plain": [
       "{3, 4, 5}"
      ]
     },
     "execution_count": 51,
     "metadata": {},
     "output_type": "execute_result"
    }
   ],
   "source": [
    "a.intersection(b) # Or a & b"
   ]
  },
  {
   "cell_type": "code",
   "execution_count": 52,
   "metadata": {},
   "outputs": [
    {
     "data": {
      "text/plain": [
       "True"
      ]
     },
     "execution_count": 52,
     "metadata": {},
     "output_type": "execute_result"
    }
   ],
   "source": [
    "s = {1, 2, 4}\n",
    "s.issubset(a)"
   ]
  },
  {
   "cell_type": "code",
   "execution_count": 56,
   "metadata": {},
   "outputs": [
    {
     "data": {
      "text/plain": [
       "True"
      ]
     },
     "execution_count": 56,
     "metadata": {},
     "output_type": "execute_result"
    }
   ],
   "source": [
    "{1, 2, 3, 4, 5} == {1, 2, 3, 4, 5}"
   ]
  },
  {
   "cell_type": "code",
   "execution_count": 57,
   "metadata": {},
   "outputs": [
    {
     "data": {
      "text/plain": [
       "False"
      ]
     },
     "execution_count": 57,
     "metadata": {},
     "output_type": "execute_result"
    }
   ],
   "source": [
    "{1, 2, 3, 4, 5} == {1, 2, 3, 5} "
   ]
  },
  {
   "cell_type": "code",
   "execution_count": 153,
   "metadata": {},
   "outputs": [
    {
     "data": {
      "text/plain": [
       "[10, 2, 3, 5, 7]"
      ]
     },
     "execution_count": 153,
     "metadata": {},
     "output_type": "execute_result"
    }
   ],
   "source": [
    "a[0] = 10\n",
    "a"
   ]
  },
  {
   "cell_type": "code",
   "execution_count": 154,
   "metadata": {},
   "outputs": [
    {
     "data": {
      "text/plain": [
       "[10, 2, 10, 5, 7]"
      ]
     },
     "execution_count": 154,
     "metadata": {},
     "output_type": "execute_result"
    }
   ],
   "source": [
    "a[2] = 10\n",
    "a"
   ]
  },
  {
   "cell_type": "code",
   "execution_count": 156,
   "metadata": {},
   "outputs": [
    {
     "data": {
      "text/plain": [
       "frozenset({2, 5, 7, 10})"
      ]
     },
     "execution_count": 156,
     "metadata": {},
     "output_type": "execute_result"
    }
   ],
   "source": [
    "fs = frozenset(a)\n",
    "fs"
   ]
  },
  {
   "cell_type": "code",
   "execution_count": null,
   "metadata": {},
   "outputs": [],
   "source": []
  },
  {
   "cell_type": "markdown",
   "metadata": {},
   "source": [
    "<h2 style=\"color:DodgerBlue\"> Functions </h2>"
   ]
  },
  {
   "cell_type": "markdown",
   "metadata": {},
   "source": [
    " "
   ]
  },
  {
   "cell_type": "code",
   "execution_count": 141,
   "metadata": {},
   "outputs": [],
   "source": [
    "# Simple function\n",
    "\n",
    "def add_hello(x):\n",
    "    return \"Hello \" + x"
   ]
  },
  {
   "cell_type": "code",
   "execution_count": 142,
   "metadata": {},
   "outputs": [
    {
     "data": {
      "text/plain": [
       "'Hello Abhi'"
      ]
     },
     "execution_count": 142,
     "metadata": {},
     "output_type": "execute_result"
    }
   ],
   "source": [
    "# Calling the function\n",
    "\n",
    "add_hello('Abhi')"
   ]
  },
  {
   "cell_type": "code",
   "execution_count": 145,
   "metadata": {},
   "outputs": [],
   "source": [
    "# A little complex function\n",
    "\n",
    "states = ['   Andheri ', 'Borivali!', 'Andheri', 'borivali', 'GOreGaun',\n",
    "          'south mumbai##', 'Andheri west?']\n",
    "\n",
    "import re\n",
    "\n",
    "def clean_strings(strings):\n",
    "    result = []\n",
    "    for value in strings:\n",
    "        value = value.strip()                   # Remove spaces from before and after a string\n",
    "        value = re.sub('[!#?]', '', value)      # Replace special chars from string\n",
    "        value = value.title()                   # Convert all the strings to title format (PROPCASE in SAS)\n",
    "        result.append(value)\n",
    "    return result"
   ]
  },
  {
   "cell_type": "code",
   "execution_count": 146,
   "metadata": {},
   "outputs": [
    {
     "data": {
      "text/plain": [
       "['Andheri',\n",
       " 'Borivali',\n",
       " 'Andheri',\n",
       " 'Borivali',\n",
       " 'Goregaun',\n",
       " 'South Mumbai',\n",
       " 'Andheri West']"
      ]
     },
     "execution_count": 146,
     "metadata": {},
     "output_type": "execute_result"
    }
   ],
   "source": [
    "clean_strings(states)"
   ]
  },
  {
   "cell_type": "markdown",
   "metadata": {},
   "source": [
    "<h2 style=\"color:DodgerBlue\"> Lambda Functions </h2>"
   ]
  },
  {
   "cell_type": "markdown",
   "metadata": {},
   "source": [
    " "
   ]
  },
  {
   "cell_type": "code",
   "execution_count": 25,
   "metadata": {
    "collapsed": true
   },
   "outputs": [],
   "source": [
    "# Useful for writing single line functions\n",
    "# lambda argument(s): expression\n",
    "\n",
    "# Function to combine 1st and last name\n",
    "\n",
    "fname_lname = lambda fn, ln: fn.strip().title() + \" \" + ln.strip().title()"
   ]
  },
  {
   "cell_type": "code",
   "execution_count": 29,
   "metadata": {},
   "outputs": [
    {
     "name": "stdout",
     "output_type": "stream",
     "text": [
      "Enter your fname:     abhishek    \n"
     ]
    }
   ],
   "source": [
    "fn = input(\"Enter your fname: \")"
   ]
  },
  {
   "cell_type": "code",
   "execution_count": 30,
   "metadata": {},
   "outputs": [
    {
     "name": "stdout",
     "output_type": "stream",
     "text": [
      "Enter your lname: sawant   \n"
     ]
    }
   ],
   "source": [
    "ln = input(\"Enter your lname:\")"
   ]
  },
  {
   "cell_type": "code",
   "execution_count": 31,
   "metadata": {},
   "outputs": [
    {
     "data": {
      "text/plain": [
       "'Abhishek Sawant'"
      ]
     },
     "execution_count": 31,
     "metadata": {},
     "output_type": "execute_result"
    }
   ],
   "source": [
    "fname_lname(fn, ln)"
   ]
  },
  {
   "cell_type": "code",
   "execution_count": 34,
   "metadata": {},
   "outputs": [
    {
     "data": {
      "text/html": [
       "<div>\n",
       "<style scoped>\n",
       "    .dataframe tbody tr th:only-of-type {\n",
       "        vertical-align: middle;\n",
       "    }\n",
       "\n",
       "    .dataframe tbody tr th {\n",
       "        vertical-align: top;\n",
       "    }\n",
       "\n",
       "    .dataframe thead th {\n",
       "        text-align: right;\n",
       "    }\n",
       "</style>\n",
       "<table border=\"1\" class=\"dataframe\">\n",
       "  <thead>\n",
       "    <tr style=\"text-align: right;\">\n",
       "      <th></th>\n",
       "      <th>a</th>\n",
       "      <th>b</th>\n",
       "    </tr>\n",
       "  </thead>\n",
       "  <tbody>\n",
       "    <tr>\n",
       "      <th>0</th>\n",
       "      <td>2</td>\n",
       "      <td>12</td>\n",
       "    </tr>\n",
       "    <tr>\n",
       "      <th>1</th>\n",
       "      <td>3</td>\n",
       "      <td>34</td>\n",
       "    </tr>\n",
       "    <tr>\n",
       "      <th>2</th>\n",
       "      <td>4</td>\n",
       "      <td>23</td>\n",
       "    </tr>\n",
       "    <tr>\n",
       "      <th>3</th>\n",
       "      <td>1</td>\n",
       "      <td>78</td>\n",
       "    </tr>\n",
       "    <tr>\n",
       "      <th>4</th>\n",
       "      <td>4</td>\n",
       "      <td>90</td>\n",
       "    </tr>\n",
       "  </tbody>\n",
       "</table>\n",
       "</div>"
      ],
      "text/plain": [
       "   a   b\n",
       "0  2  12\n",
       "1  3  34\n",
       "2  4  23\n",
       "3  1  78\n",
       "4  4  90"
      ]
     },
     "execution_count": 34,
     "metadata": {},
     "output_type": "execute_result"
    }
   ],
   "source": [
    "import pandas as pd\n",
    "\n",
    "d = {'a': [2,3,4,1,4], 'b': [12,34,23,78,90]}\n",
    "df = pd.DataFrame(d)\n",
    "df"
   ]
  },
  {
   "cell_type": "code",
   "execution_count": 37,
   "metadata": {},
   "outputs": [
    {
     "data": {
      "text/plain": [
       "a     14\n",
       "b    237\n",
       "dtype: int64"
      ]
     },
     "execution_count": 37,
     "metadata": {},
     "output_type": "execute_result"
    }
   ],
   "source": [
    "df.apply(lambda x: sum(x))  # It will pass column a and b as input to the lambda functions"
   ]
  },
  {
   "cell_type": "markdown",
   "metadata": {},
   "source": [
    "<h2 style=\"color:DodgerBlue\">Reading files and OS commands</h2>"
   ]
  },
  {
   "cell_type": "markdown",
   "metadata": {},
   "source": [
    " "
   ]
  },
  {
   "cell_type": "code",
   "execution_count": 147,
   "metadata": {},
   "outputs": [
    {
     "data": {
      "text/plain": [
       "'A:\\\\Data_Science\\\\AI & ML training\\\\Lec 1'"
      ]
     },
     "execution_count": 147,
     "metadata": {},
     "output_type": "execute_result"
    }
   ],
   "source": [
    "import os\n",
    "\n",
    "os.getcwd()"
   ]
  },
  {
   "cell_type": "code",
   "execution_count": null,
   "metadata": {
    "collapsed": true
   },
   "outputs": [],
   "source": [
    "os.chdir('Path of new dir')"
   ]
  },
  {
   "cell_type": "code",
   "execution_count": 148,
   "metadata": {},
   "outputs": [
    {
     "name": "stdout",
     "output_type": "stream",
     "text": [
      "This is the 100th Etext file presented by Project Gutenberg, and\n",
      "is presented in cooperation with World Library, Inc., from their\n",
      "Library of the Future and Shakespeare CDROMS.  Project Gutenberg\n",
      "often releases Etexts that are NOT placed in the Public Domain!!\n",
      "\n",
      "Shakespeare\n",
      "\n",
      "1609\n",
      "\n",
      "THE SONNETS\n",
      "\n",
      "by William Shakespeare\n",
      "\n",
      "\n",
      "\n",
      "                     1\n",
      "  From fairest creatures we desire increase,\n",
      "  That thereby beauty's rose might never die,\n",
      "  But as the riper should by time decease,\n",
      "  His tender heir might bear his memory:\n",
      "  But thou contracted to thine own bright eyes,\n",
      "  Feed'st thy light's flame with self-substantial fuel,\n",
      "  Making a famine where abundance lies,\n",
      "  Thy self thy foe, to thy sweet self too cruel:\n",
      "  Thou that art now the world's fresh ornament,\n",
      "  And only herald to the gaudy spring,\n",
      "  Within thine own bud buriest thy content,\n",
      "  And tender churl mak'st waste in niggarding:\n",
      "    Pity the world, or else this glutton be,\n",
      "    To eat the world's due, by the grave and thee.\n",
      "\n",
      "\n",
      "                     2\n",
      "  When forty winters shall besiege thy brow,\n",
      "  And dig deep trenches in thy beauty's field,\n",
      "  Thy youth's proud livery so gazed on now,\n",
      "  Will be a tattered weed of small worth held:  \n",
      "  Then being asked, where all thy beauty lies,\n",
      "  Where all the treasure of thy lusty days;\n",
      "  To say within thine own deep sunken eyes,\n",
      "  Were an all-eating shame, and thriftless praise.\n",
      "  How much more praise deserved thy beauty's use,\n",
      "  If thou couldst answer 'This fair child of mine\n",
      "  Shall sum my count, and make my old excuse'\n",
      "  Proving his beauty by succession thine.\n",
      "    This were to be new made when thou art old,\n",
      "    And see thy blood warm when thou feel'st it cold.\n",
      "\n",
      "\n",
      "                     3\n",
      "  Look in thy glass and tell the face thou viewest,\n",
      "  Now is the time that face should form another,\n",
      "  Whose fresh repair if now thou not renewest,\n",
      "  Thou dost beguile the world, unbless some mother.\n",
      "  For where is she so fair whose uneared womb\n",
      "  Disdains the tillage of thy husbandry?\n",
      "  Or who is he so fond will be the tomb,\n",
      "  Of his self-love to stop posterity?  \n",
      "  Thou art thy mother's glass and she in thee\n",
      "  Calls back the lovely April of her prime,\n",
      "  So thou through windows of thine age shalt see,\n",
      "  Despite of wrinkles this thy golden time.\n",
      "    But if thou live remembered not to be,\n",
      "    Die single and thine image dies with thee.\n",
      "\n",
      "\n",
      "                     4\n",
      "  Unthrifty loveliness why dost thou spend,\n",
      "  Upon thy self thy beauty's legacy?\n",
      "  Nature's bequest gives nothing but doth lend,\n",
      "  And being frank she lends to those are free:\n",
      "  Then beauteous niggard why dost thou abuse,\n",
      "  The bounteous largess given thee to give?\n",
      "  Profitless usurer why dost thou use\n",
      "  So great a sum of sums yet canst not live?\n",
      "  For having traffic with thy self alone,\n",
      "  Thou of thy self thy sweet self dost deceive,\n",
      "  Then how when nature calls thee to be gone,\n",
      "  What acceptable audit canst thou leave?  \n",
      "    Thy unused beauty must be tombed with thee,\n",
      "    Which used lives th' executor to be.\n",
      "\n",
      "\n"
     ]
    }
   ],
   "source": [
    "# Reading a file\n",
    "\n",
    "with open('shakespeare.txt') as f:     # Don't need to worry about closing the file\n",
    "    print(f.read())"
   ]
  },
  {
   "cell_type": "code",
   "execution_count": 55,
   "metadata": {},
   "outputs": [
    {
     "name": "stdout",
     "output_type": "stream",
     "text": [
      "['This is the 100th Etext file presented by Project Gutenberg, and\\n', 'is presented in cooperation with World Library, Inc., from their\\n', 'Library of the Future and Shakespeare CDROMS.  Project Gutenberg\\n', 'often releases Etexts that are NOT placed in the Public Domain!!\\n', '\\n', 'Shakespeare\\n', '\\n', '1609\\n', '\\n', 'THE SONNETS\\n', '\\n', 'by William Shakespeare\\n', '\\n', '\\n', '\\n', '                     1\\n', '  From fairest creatures we desire increase,\\n', \"  That thereby beauty's rose might never die,\\n\", '  But as the riper should by time decease,\\n', '  His tender heir might bear his memory:\\n', '  But thou contracted to thine own bright eyes,\\n', \"  Feed'st thy light's flame with self-substantial fuel,\\n\", '  Making a famine where abundance lies,\\n', '  Thy self thy foe, to thy sweet self too cruel:\\n', \"  Thou that art now the world's fresh ornament,\\n\", '  And only herald to the gaudy spring,\\n', '  Within thine own bud buriest thy content,\\n', \"  And tender churl mak'st waste in niggarding:\\n\", '    Pity the world, or else this glutton be,\\n', \"    To eat the world's due, by the grave and thee.\\n\", '\\n', '\\n', '                     2\\n', '  When forty winters shall besiege thy brow,\\n', \"  And dig deep trenches in thy beauty's field,\\n\", \"  Thy youth's proud livery so gazed on now,\\n\", '  Will be a tattered weed of small worth held:  \\n', '  Then being asked, where all thy beauty lies,\\n', '  Where all the treasure of thy lusty days;\\n', '  To say within thine own deep sunken eyes,\\n', '  Were an all-eating shame, and thriftless praise.\\n', \"  How much more praise deserved thy beauty's use,\\n\", \"  If thou couldst answer 'This fair child of mine\\n\", \"  Shall sum my count, and make my old excuse'\\n\", '  Proving his beauty by succession thine.\\n', '    This were to be new made when thou art old,\\n', \"    And see thy blood warm when thou feel'st it cold.\\n\", '\\n', '\\n', '                     3\\n', '  Look in thy glass and tell the face thou viewest,\\n', '  Now is the time that face should form another,\\n', '  Whose fresh repair if now thou not renewest,\\n', '  Thou dost beguile the world, unbless some mother.\\n', '  For where is she so fair whose uneared womb\\n', '  Disdains the tillage of thy husbandry?\\n', '  Or who is he so fond will be the tomb,\\n', '  Of his self-love to stop posterity?  \\n', \"  Thou art thy mother's glass and she in thee\\n\", '  Calls back the lovely April of her prime,\\n', '  So thou through windows of thine age shalt see,\\n', '  Despite of wrinkles this thy golden time.\\n', '    But if thou live remembered not to be,\\n', '    Die single and thine image dies with thee.\\n', '\\n', '\\n', '                     4\\n', '  Unthrifty loveliness why dost thou spend,\\n', \"  Upon thy self thy beauty's legacy?\\n\", \"  Nature's bequest gives nothing but doth lend,\\n\", '  And being frank she lends to those are free:\\n', '  Then beauteous niggard why dost thou abuse,\\n', '  The bounteous largess given thee to give?\\n', '  Profitless usurer why dost thou use\\n', '  So great a sum of sums yet canst not live?\\n', '  For having traffic with thy self alone,\\n', '  Thou of thy self thy sweet self dost deceive,\\n', '  Then how when nature calls thee to be gone,\\n', '  What acceptable audit canst thou leave?  \\n', '    Thy unused beauty must be tombed with thee,\\n', \"    Which used lives th' executor to be.\\n\", '\\n']\n"
     ]
    }
   ],
   "source": [
    "with open('shakespeare.txt') as f:\n",
    "    print(f.readlines())"
   ]
  },
  {
   "cell_type": "code",
   "execution_count": 150,
   "metadata": {},
   "outputs": [
    {
     "name": "stdout",
     "output_type": "stream",
     "text": [
      "This is the 100th Etext file presented by Project Gutenberg, and\n",
      "\n"
     ]
    }
   ],
   "source": [
    "with open('shakespeare.txt') as f:\n",
    "    print(f.readline())"
   ]
  },
  {
   "cell_type": "markdown",
   "metadata": {
    "collapsed": true
   },
   "source": [
    "<h2 style=\"color:DodgerBlue\">Pickling</h2>"
   ]
  },
  {
   "cell_type": "code",
   "execution_count": 2,
   "metadata": {},
   "outputs": [],
   "source": [
    "import pickle"
   ]
  },
  {
   "cell_type": "code",
   "execution_count": 3,
   "metadata": {},
   "outputs": [
    {
     "data": {
      "text/plain": [
       "{'Mumbai': 1, 'Pune': 2, 'Banglore': 3, 'Delhi': 4}"
      ]
     },
     "execution_count": 3,
     "metadata": {},
     "output_type": "execute_result"
    }
   ],
   "source": [
    "cities = {'Mumbai':1, \"Pune\":2, \"Banglore\":3, \"Delhi\":4}\n",
    "cities"
   ]
  },
  {
   "cell_type": "code",
   "execution_count": 10,
   "metadata": {},
   "outputs": [
    {
     "data": {
      "text/plain": [
       "{'Mumbai': 1, 'Pune': 2, 'Banglore': 3}"
      ]
     },
     "execution_count": 10,
     "metadata": {},
     "output_type": "execute_result"
    }
   ],
   "source": [
    "cities.pop(\"Delhi\")\n",
    "cities"
   ]
  },
  {
   "cell_type": "code",
   "execution_count": 11,
   "metadata": {},
   "outputs": [],
   "source": [
    "outfile = open(\"cities.pkl\",'wb')"
   ]
  },
  {
   "cell_type": "code",
   "execution_count": 12,
   "metadata": {},
   "outputs": [],
   "source": [
    "pickle.dump(cities,outfile)\n",
    "outfile.close()"
   ]
  },
  {
   "cell_type": "code",
   "execution_count": 13,
   "metadata": {},
   "outputs": [],
   "source": [
    "infile = open(\"cities.pkl\",'rb')\n",
    "new_cities = pickle.load(infile)\n",
    "infile.close()"
   ]
  },
  {
   "cell_type": "code",
   "execution_count": 14,
   "metadata": {},
   "outputs": [
    {
     "data": {
      "text/plain": [
       "{'Mumbai': 1, 'Pune': 2, 'Banglore': 3}"
      ]
     },
     "execution_count": 14,
     "metadata": {},
     "output_type": "execute_result"
    }
   ],
   "source": [
    "new_cities"
   ]
  },
  {
   "cell_type": "code",
   "execution_count": null,
   "metadata": {},
   "outputs": [],
   "source": []
  }
 ],
 "metadata": {
  "kernelspec": {
   "display_name": "Python 3",
   "language": "python",
   "name": "python3"
  },
  "language_info": {
   "codemirror_mode": {
    "name": "ipython",
    "version": 3
   },
   "file_extension": ".py",
   "mimetype": "text/x-python",
   "name": "python",
   "nbconvert_exporter": "python",
   "pygments_lexer": "ipython3",
   "version": "3.7.4"
  }
 },
 "nbformat": 4,
 "nbformat_minor": 2
}
